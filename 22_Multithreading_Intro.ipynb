{
 "cells": [
  {
   "cell_type": "code",
   "execution_count": 1,
   "metadata": {},
   "outputs": [
    {
     "name": "stdout",
     "output_type": "stream",
     "text": [
      "Print squares\n",
      "Square 4\n",
      "Square 9\n",
      "Square 16\n",
      "Square 25\n",
      "Print cubes\n",
      "Cube 8\n",
      "Cube 27\n",
      "Cube 64\n",
      "Cube 125\n",
      "Without thread program took 1.61594820022583\n",
      "\n",
      "Print squares\n",
      "Print cubes\n",
      "Square 4\n",
      "Cube 8\n",
      "Square 9\n",
      "Cube 27\n",
      "Square 16\n",
      "Cube 64\n",
      "Square 25\n",
      "Cube 125\n",
      "Program took 0.8296527862548828\n"
     ]
    }
   ],
   "source": [
    "import time\n",
    "import threading\n",
    "\n",
    "\n",
    "def PrintSquare(numbers):\n",
    "  print(\"Print squares\")\n",
    "  for n in numbers:\n",
    "    time.sleep(0.2)\n",
    "    print(\"Square\", n*n)\n",
    "\n",
    "\n",
    "def PrintCube(numbers):\n",
    "  print(\"Print cubes\")\n",
    "  for n in numbers:\n",
    "    time.sleep(0.2)\n",
    "    print(\"Cube\", n*n*n)\n",
    "\n",
    "\n",
    "def with_thread():\n",
    "    arr = [2,3,4,5]\n",
    "    t = time.time()\n",
    "    t1=threading.Thread(target=PrintSquare, args=(arr,))\n",
    "    t2=threading.Thread(target=PrintCube, args=(arr,))\n",
    "    # starting thread 1\n",
    "    t1.start()\n",
    "    # starting thread 2\n",
    "    t2.start()\n",
    " \n",
    "    # wait until thread 1 is completely executed\n",
    "    t1.join()\n",
    "    # wait until thread 2 is completely executed\n",
    "    t2.join()\n",
    "    print(\"Program took\", time.time()-t)\n",
    "\n",
    "def without_thread():\n",
    "    arr = [2,3,4,5]\n",
    "    t = time.time()\n",
    "    PrintSquare(arr)\n",
    "    PrintCube(arr)\n",
    "    print(\"Without thread program took\", time.time()-t)\n",
    "\n",
    "if __name__ == '__main__':\n",
    "    without_thread()\n",
    "    print()\n",
    "    with_thread()"
   ]
  },
  {
   "cell_type": "code",
   "execution_count": 3,
   "metadata": {},
   "outputs": [],
   "source": [
    "def f1():\n",
    "    for d in range(10):\n",
    "        time.sleep(3)\n",
    "        print(d,'f1')\n",
    "def f2():\n",
    "    for d in range(10):\n",
    "        time.sleep(1)\n",
    "        print(d,'f2')"
   ]
  },
  {
   "cell_type": "code",
   "execution_count": 4,
   "metadata": {},
   "outputs": [
    {
     "name": "stdout",
     "output_type": "stream",
     "text": [
      "0 f2\n",
      "1 f2\n",
      "0 f1\n",
      "2 f2\n",
      "3 f2\n",
      "4 f2\n",
      "1 f1\n",
      "5 f2\n",
      "6 f2\n",
      "7 f2\n",
      "2 f1\n",
      "8 f2\n",
      "9 f2\n",
      "3 f1\n",
      "4 f1\n",
      "5 f1\n",
      "6 f1\n",
      "7 f1\n",
      "8 f1\n",
      "9 f1\n"
     ]
    }
   ],
   "source": [
    "from threading import Thread\n",
    "import time\n",
    "\n",
    "\n",
    "t1=Thread(target=f1)\n",
    "t2=Thread(target=f2)\n",
    "t1.start()\n",
    "t2.start()\n",
    "\n"
   ]
  }
 ],
 "metadata": {
  "kernelspec": {
   "display_name": "Python 3",
   "language": "python",
   "name": "python3"
  },
  "language_info": {
   "codemirror_mode": {
    "name": "ipython",
    "version": 3
   },
   "file_extension": ".py",
   "mimetype": "text/x-python",
   "name": "python",
   "nbconvert_exporter": "python",
   "pygments_lexer": "ipython3",
   "version": "3.7.3"
  }
 },
 "nbformat": 4,
 "nbformat_minor": 2
}
